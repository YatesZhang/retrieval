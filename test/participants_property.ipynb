{
 "cells": [
  {
   "cell_type": "code",
   "execution_count": 2,
   "metadata": {},
   "outputs": [],
   "source": [
    "# handle bugs in some docker container: 'pip install -e .'  doesn't work \n",
    "from IPython.display import clear_output\n",
    "try:\n",
    "    import Flamingo\n",
    "except ModuleNotFoundError:\n",
    "    import sys \n",
    "    sys.path.append('..')\n",
    "    import Flamingo\n",
    "lang_encoder_path = \"facebook/opt-125m\"\n",
    "tokenizer_path = lang_encoder_path\n",
    "cache_dir = None \n",
    "model_config = dict(\n",
    "    clip_vision_encoder_path=\"ViT-L-14\",\n",
    "    clip_vision_encoder_pretrained=\"openai\",\n",
    "    lang_encoder_path=lang_encoder_path,\n",
    "    tokenizer_path=tokenizer_path,\n",
    "    cross_attn_every_n_layers=1,\n",
    "    cache_dir = cache_dir,\n",
    "    lora_tuning=False,\n",
    "    decoupled=True  \n",
    ")\n",
    "\n",
    "import torch\n",
    "from Flamingo.lora_tuning import create_model_and_transforms \n",
    "from Flamingo.models.batchprocessor import DecoupledFlamingoBatchProcessor\n",
    "from Flamingo.datasets.gtsrb import classes\n",
    "from Flamingo.config.participants_property import dataset_config\n",
    "from Flamingo.datasets import build_dataset\n",
    "from Flamingo.inference.vis import show_pred_with_gt\n",
    "from Flamingo.inference import post_process\n",
    "import pandas as pd \n",
    "import re\n",
    "from random import randint\n",
    "clear_output()"
   ]
  },
  {
   "cell_type": "code",
   "execution_count": 3,
   "metadata": {},
   "outputs": [],
   "source": [
    "# build model, image processor and tokenizer\n",
    "model, image_processor, tokenizer = create_model_and_transforms(\n",
    "    **model_config\n",
    ")\n",
    "print(\"Load state dict:\")\n",
    "state_dict = torch.load(\"/root/yunzhi/flamingo_retrieval/retrieval/work_dir/99/weight.pth\")\n",
    "keys1 = model.lang_encoder.gated_cross_attn_layers.load_state_dict(state_dict, strict=False)\n",
    "keys2 = model.perceiver.load_state_dict(state_dict, strict=False)\n",
    "dataset = build_dataset(\n",
    "    dataset_config=dataset_config,\n",
    "    vis_processor=image_processor,\n",
    "    tokenizer=tokenizer)\n",
    "model = model.to(device=\"cuda:2\", dtype=torch.bfloat16)\n",
    "\n",
    "batch_processor = DecoupledFlamingoBatchProcessor(cast_type='bf16', tokenizer=tokenizer)\n",
    "model.eval()\n",
    "clear_output()"
   ]
  },
  {
   "cell_type": "code",
   "execution_count": 5,
   "metadata": {},
   "outputs": [
    {
     "data": {
      "text/plain": [
       "['vision_x',\n",
       " 'category_name',\n",
       " 'attributes_name',\n",
       " 'ori_img_name',\n",
       " 'file_name',\n",
       " 'bbox',\n",
       " 'area',\n",
       " 'pth_file']"
      ]
     },
     "execution_count": 5,
     "metadata": {},
     "output_type": "execute_result"
    }
   ],
   "source": [
    "[k for k in dataset[0]]"
   ]
  },
  {
   "cell_type": "code",
   "execution_count": 6,
   "metadata": {},
   "outputs": [
    {
     "data": {
      "text/plain": [
       "([110.2237445779, 294.2411995329, 81.59200867539998, 116.00141808469999],\n",
       " 'pedestrian',\n",
       " '0-50 obstruction',\n",
       " torch.Size([1, 1, 1, 256, 1024]))"
      ]
     },
     "execution_count": 6,
     "metadata": {},
     "output_type": "execute_result"
    }
   ],
   "source": [
    "for data in dataset:\n",
    "    bbox = data['bbox']\n",
    "    x, y, w, h = bbox\n",
    "    x, y, w, h = int(x), int(y), int(w), int(h)\n",
    "    if x <0 or y < 0 or w < 0 or h < 0:\n",
    "        continue \n",
    "    break \n",
    "data['bbox'], data['category_name'], data['attributes_name'], data['vision_x'].shape"
   ]
  },
  {
   "cell_type": "code",
   "execution_count": 120,
   "metadata": {},
   "outputs": [
    {
     "data": {
      "text/plain": [
       "(5445,\n",
       " [645.2942545395, 482.2438995211, 52.380189045400016, 37.975637057899974],\n",
       " 'car',\n",
       " '0-50 obstruction')"
      ]
     },
     "execution_count": 120,
     "metadata": {},
     "output_type": "execute_result"
    }
   ],
   "source": [
    "def check_bbox(data):\n",
    "    bbox = data['bbox']\n",
    "    x, y, w, h = bbox\n",
    "    x, y, w, h = int(x), int(y), int(w), int(h)\n",
    "    if x <0 or y < 0 or w < 0 or h < 0:\n",
    "        return False\n",
    "    return True \n",
    "index = randint(0, len(dataset))\n",
    "data = dataset[index] \n",
    "while not check_bbox(data):\n",
    "    index = randint(0, len(dataset))\n",
    "    data = dataset[index] \n",
    "index, data['bbox'], data['category_name'], data['attributes_name']"
   ]
  },
  {
   "cell_type": "code",
   "execution_count": 30,
   "metadata": {},
   "outputs": [],
   "source": [
    "data = dataset[1506]"
   ]
  },
  {
   "cell_type": "code",
   "execution_count": 133,
   "metadata": {},
   "outputs": [
    {
     "name": "stdout",
     "output_type": "stream",
     "text": [
      "before post process: ['Output:0-50 obstruction car�I\\'m not a fan of the \"I\\'m not a fan']\n"
     ]
    },
    {
     "data": {
      "text/plain": [
       "['Output:0-50 obstruction car']"
      ]
     },
     "execution_count": 133,
     "metadata": {},
     "output_type": "execute_result"
    }
   ],
   "source": [
    "def post_process_participants(texts):\n",
    "    if isinstance(texts, list):\n",
    "        return [post_process_participants(text) for text in texts]\n",
    "    elif isinstance(texts, str):\n",
    "        texts = texts.split('\\x7f')[0]\n",
    "        texts = texts.split('�')[0]\n",
    "        search_list = ['I\\'m', 'guiAct',]\n",
    "        result = texts\n",
    "        for search_target in search_list:\n",
    "            match = re.search(search_target, texts)\n",
    "            if match:\n",
    "                end_pos = match.start()\n",
    "                # print(f\"search_target={search_target}, end_pos={end_pos}\")\n",
    "                result = texts[:end_pos - 1]\n",
    "        return result\n",
    "    else:\n",
    "        raise TypeError\n",
    "with torch.inference_mode():\n",
    "    output = batch_processor(model=model, batch=data['vision_x'], mode='test',\n",
    "            text_prompt=\"<image>Output:\", num_beams=3, max_new_tokens=20)\n",
    "    print(\"before post process:\", output)\n",
    "    _output = post_process(output)\n",
    "_output"
   ]
  },
  {
   "cell_type": "code",
   "execution_count": 134,
   "metadata": {},
   "outputs": [
    {
     "data": {
      "text/plain": [
       "True"
      ]
     },
     "execution_count": 134,
     "metadata": {},
     "output_type": "execute_result"
    }
   ],
   "source": [
    "# re.search(\"I\\'m not sure\", output[0]).start()\n",
    "'I\\'' in output[0].split('�')[1]"
   ]
  },
  {
   "cell_type": "code",
   "execution_count": 15,
   "metadata": {},
   "outputs": [
    {
     "data": {
      "text/plain": [
       "['Output:0-50 obstruction car']"
      ]
     },
     "execution_count": 15,
     "metadata": {},
     "output_type": "execute_result"
    }
   ],
   "source": [
    "post_process(output)"
   ]
  },
  {
   "cell_type": "code",
   "execution_count": 1,
   "metadata": {},
   "outputs": [
    {
     "ename": "NameError",
     "evalue": "name 're' is not defined",
     "output_type": "error",
     "traceback": [
      "\u001b[0;31m---------------------------------------------------------------------------\u001b[0m",
      "\u001b[0;31mNameError\u001b[0m                                 Traceback (most recent call last)",
      "\u001b[1;32m/root/yunzhi/flamingo_retrieval/retrieval/test/participants_property.ipynb Cell 7\u001b[0m line \u001b[0;36m9\n\u001b[1;32m      <a href='vscode-notebook-cell://icoding%2B438634.icoding.baidu-int.com/root/yunzhi/flamingo_retrieval/retrieval/test/participants_property.ipynb#W6sdnNjb2RlLXJlbW90ZQ%3D%3D?line=6'>7</a>\u001b[0m     \u001b[39mreturn\u001b[39;00m result\n\u001b[1;32m      <a href='vscode-notebook-cell://icoding%2B438634.icoding.baidu-int.com/root/yunzhi/flamingo_retrieval/retrieval/test/participants_property.ipynb#W6sdnNjb2RlLXJlbW90ZQ%3D%3D?line=7'>8</a>\u001b[0m pattern \u001b[39m=\u001b[39m \u001b[39mr\u001b[39m\u001b[39m'\u001b[39m\u001b[39m[\u001b[39m\u001b[39m\\\u001b[39m\u001b[39mx00-\u001b[39m\u001b[39m\\\u001b[39m\u001b[39mx7f]+\u001b[39m\u001b[39m'\u001b[39m\n\u001b[0;32m----> <a href='vscode-notebook-cell://icoding%2B438634.icoding.baidu-int.com/root/yunzhi/flamingo_retrieval/retrieval/test/participants_property.ipynb#W6sdnNjb2RlLXJlbW90ZQ%3D%3D?line=8'>9</a>\u001b[0m re\u001b[39m.\u001b[39msub(pattern, \u001b[39m'\u001b[39m\u001b[39m \u001b[39m\u001b[39m'\u001b[39m, output[\u001b[39m0\u001b[39m])\n",
      "\u001b[0;31mNameError\u001b[0m: name 're' is not defined"
     ]
    }
   ],
   "source": [
    "def remove_special_characters(text):\n",
    "    # 匹配 ASCII 特殊字符的正则表达式\n",
    "    pattern = r'[^\\x00-\\x7f]+'\n",
    "    \n",
    "    # 使用空字符串替换匹配到的特殊字符\n",
    "    result = re.sub(pattern, ' ', text)\n",
    "    return result\n",
    "pattern = r'[\\x00-\\x7f]+'\n",
    "re.sub(pattern, ' ', output[0])"
   ]
  }
 ],
 "metadata": {
  "kernelspec": {
   "display_name": "Python 3",
   "language": "python",
   "name": "python3"
  },
  "language_info": {
   "codemirror_mode": {
    "name": "ipython",
    "version": 3
   },
   "file_extension": ".py",
   "mimetype": "text/x-python",
   "name": "python",
   "nbconvert_exporter": "python",
   "pygments_lexer": "ipython3",
   "version": "3.8.10"
  }
 },
 "nbformat": 4,
 "nbformat_minor": 2
}
